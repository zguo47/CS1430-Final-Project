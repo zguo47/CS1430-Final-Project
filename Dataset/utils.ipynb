{
  "nbformat": 4,
  "nbformat_minor": 0,
  "metadata": {
    "colab": {
      "provenance": []
    },
    "kernelspec": {
      "name": "python3",
      "display_name": "Python 3"
    },
    "language_info": {
      "name": "python"
    }
  },
  "cells": [
    {
      "cell_type": "markdown",
      "source": [
        "# Unzipping files with google colab"
      ],
      "metadata": {
        "id": "7HCBtjRDCEZ2"
      }
    },
    {
      "cell_type": "code",
      "execution_count": null,
      "metadata": {
        "colab": {
          "base_uri": "https://localhost:8080/"
        },
        "id": "1AA6mCShB0SH",
        "outputId": "b44f6f71-8ca9-4b2d-faab-e1cecd586344"
      },
      "outputs": [
        {
          "output_type": "stream",
          "name": "stdout",
          "text": [
            "Mounted at /content/drive\n"
          ]
        }
      ],
      "source": [
        "from google.colab import drive\n",
        "drive.mount('/content/drive')"
      ]
    },
    {
      "cell_type": "markdown",
      "source": [
        "## Dataset 1"
      ],
      "metadata": {
        "id": "zNwOWfUYGOAU"
      }
    },
    {
      "cell_type": "markdown",
      "source": [
        ":The dataset is downloaded from the following [link](https://www.kaggle.com/datasets/aayush9753/image-colorization-dataset)"
      ],
      "metadata": {
        "id": "6qepN6cLPlPn"
      }
    },
    {
      "cell_type": "code",
      "source": [
        "! unzip '/content/drive/Shareddrives/CVFinalProject/data/archive.zip' -d '/content/drive/Shareddrives/CVFinalProject/data/dataset1/'"
      ],
      "metadata": {
        "id": "lKx0Ed5lCyJ1"
      },
      "execution_count": null,
      "outputs": []
    },
    {
      "cell_type": "markdown",
      "source": [
        "# Dataset 3"
      ],
      "metadata": {
        "id": "0ehaeoRLYaAV"
      }
    },
    {
      "cell_type": "code",
      "source": [
        "! unzip '/content/drive/Shareddrives/CVFinalProject/data/NCDataset.zip' -d '/content/drive/Shareddrives/CVFinalProject/data/dataset3/'"
      ],
      "metadata": {
        "id": "4ThqkUrzYcE4"
      },
      "execution_count": null,
      "outputs": []
    },
    {
      "cell_type": "code",
      "source": [
        "! unzip '/content/drive/Shareddrives/CVFinalProject/data/ColorfulOriginal.zip' -d '/content/drive/Shareddrives/CVFinalProject/data/dataset3/'"
      ],
      "metadata": {
        "id": "e-7hfW79bs3U"
      },
      "execution_count": null,
      "outputs": []
    }
  ]
}