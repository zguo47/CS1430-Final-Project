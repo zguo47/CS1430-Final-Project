{
  "nbformat": 4,
  "nbformat_minor": 0,
  "metadata": {
    "colab": {
      "provenance": [],
      "toc_visible": true,
      "gpuType": "T4"
    },
    "kernelspec": {
      "name": "python3",
      "display_name": "Python 3"
    },
    "language_info": {
      "name": "python"
    },
    "accelerator": "GPU",
    "gpuClass": "standard"
  },
  "cells": [
    {
      "cell_type": "code",
      "execution_count": null,
      "metadata": {
        "id": "jlQXoNdRMpzs",
        "colab": {
          "base_uri": "https://localhost:8080/"
        },
        "outputId": "eb9d6758-d7dd-4941-aa28-db10e343c4a3"
      },
      "outputs": [
        {
          "output_type": "stream",
          "name": "stdout",
          "text": [
            "Mounted at /content/drive\n"
          ]
        }
      ],
      "source": [
        "from google.colab import drive\n",
        "drive.mount('/content/drive')"
      ]
    },
    {
      "cell_type": "code",
      "source": [
        "#load in dependencies\n",
        "import numpy as np\n",
        "import matplotlib.pyplot as plt"
      ],
      "metadata": {
        "id": "0kB0WcR_OfTw"
      },
      "execution_count": null,
      "outputs": []
    },
    {
      "cell_type": "code",
      "source": [
        "#read in data\n",
        "path = \"/content/drive/Shareddrives/CVFinalProject/weights/\"\n",
        "\n",
        "def get_loss_list(folder_path, epoch1=50, epoch2=100):\n",
        "    first_run_train = np.load(folder_path+\"/training_losses.npy\")\n",
        "\n",
        "    try:\n",
        "      first_run_test = np.load(folder_path+\"/testing_losses.npy\")\n",
        "      second_run_train = np.load(folder_path+\"/training_losses1.npy\")\n",
        "      second_run_test = np.load(folder_path+\"/testing_losses1.npy\")\n",
        "    except:\n",
        "      pass\n",
        "\n",
        "    print(folder_path)\n",
        "    try:\n",
        "      print(f\"train_1:{first_run_train.shape}\")\n",
        "      print(f\"test_1:{first_run_test.shape}\")\n",
        "      print(f\"train_2:{second_run_train.shape}\")\n",
        "      print(f\"test_2:{second_run_test.shape}\")\n",
        "    except:\n",
        "      pass\n",
        "\n",
        "    def reduce_list(dataset, epochNum):\n",
        "      tempList = []\n",
        "      epochLoss = []\n",
        "      batchSize = len(dataset)/epochNum\n",
        "\n",
        "      for i in range(len(dataset)):\n",
        "        tempList.append(dataset[i])\n",
        "        if (i+1) % batchSize == 0:\n",
        "          epochLoss.append(np.array(tempList).mean())\n",
        "          tempList = []\n",
        "\n",
        "      return epochLoss\n",
        "    \n",
        "    #train loss\n",
        "    train_loss = reduce_list(first_run_train, epoch1)\n",
        "    try:\n",
        "      #test loss\n",
        "       test_loss = reduce_list(first_run_test, epoch1)\n",
        "    except:\n",
        "      test_loss = []\n",
        "\n",
        "    try:\n",
        "       #second train loss\n",
        "       strain_loss = reduce_list(second_run_train,epoch2)\n",
        "       train_loss.extend(strain_loss)\n",
        "\n",
        "       #second test loss\n",
        "       stest_loss = reduce_list(second_run_test, epoch2)\n",
        "       test_loss.extend(strain_loss)\n",
        "    except:\n",
        "      pass\n",
        "\n",
        "    return np.array(train_loss), np.array(test_loss)"
      ],
      "metadata": {
        "id": "djkcz8__Nvqm"
      },
      "execution_count": null,
      "outputs": []
    },
    {
      "cell_type": "code",
      "source": [
        "train_loss = []\n",
        "test_loss = []\n",
        "#get the train and test loss\n",
        "for i in range(1,8):\n",
        "  if i == 1 or i == 2:\n",
        "    epoch_num = 50\n",
        "  else:\n",
        "    epoch_num = 100\n",
        "  result = get_loss_list(f\"{path}experiment{i}\", epoch1=epoch_num)\n",
        "  train_loss.append(result[0])\n",
        "  test_loss.append(result[1])"
      ],
      "metadata": {
        "id": "JLFQM4ZZOwp1"
      },
      "execution_count": null,
      "outputs": []
    },
    {
      "cell_type": "code",
      "source": [
        "def plot_loss(train_loss, test_loss, title):\n",
        "  if len(test_loss) != 0:\n",
        "    assert len(train_loss) == len(test_loss)\n",
        "    ylabel = \"Train/test Loss\" \n",
        "  else:\n",
        "    ylabel = \"Train Loss\"\n",
        "\n",
        "  epoch_num = np.arange(len(train_loss))\n",
        "  plt.plot(epoch_num, train_loss, label=\"train\")\n",
        "  try:\n",
        "    plt.plot(epoch_num, test_loss, label=\"test\")\n",
        "  except:\n",
        "    pass\n",
        "\n",
        "  plt.xlabel('Num of Epoch')\n",
        "  plt.ylabel(ylabel)\n",
        "  plt.title(title)\n",
        "  plt.legend()\n",
        "  plt.show()"
      ],
      "metadata": {
        "id": "kOWy69R4RwDx"
      },
      "execution_count": null,
      "outputs": []
    },
    {
      "cell_type": "code",
      "source": [
        "ex_titles = [\"Koalarization on dataset 1\",\n",
        "             \"U-net on dataset 1\",\n",
        "             \"CGAN with pretrained U-net weights on dataset 1\",\n",
        "             \"Koalarization on dataset 2\",\n",
        "             \"U-net on dataset 2\",\n",
        "             \"CGAN with pretrained U-net weights on dataset 2\",\n",
        "             \"CGAN trained from scratch on dataset 2\"]\n",
        "for (train, test, plot_title) in zip(train_loss, test_loss, ex_titles):\n",
        "  plot_loss(train, test, plot_title)"
      ],
      "metadata": {
        "id": "GHj30z2tVvcH"
      },
      "execution_count": null,
      "outputs": []
    },
    {
      "cell_type": "code",
      "source": [
        "#plot ex2 and ex5\n",
        "epoch_num = np.arange(len(train_loss[1]))\n",
        "epoch_num2 = np.arange(len(train_loss[4]))\n",
        "plt.plot(epoch_num, train_loss[1], label=\"U-net train on dataset 1\")\n",
        "plt.plot(epoch_num, test_loss[1], label='U-net test on dataset 1')\n",
        "plt.plot(epoch_num2, train_loss[4], label='U-net train on dataset 2')\n",
        "\n",
        "plt.xlabel('Num of Epochs')\n",
        "plt.ylabel(\"Mean Squared Error\")\n",
        "plt.title(\"U-net Model Performance\")\n",
        "plt.legend()\n",
        "plt.show()"
      ],
      "metadata": {
        "id": "UDyFWs_dC3Qk"
      },
      "execution_count": null,
      "outputs": []
    },
    {
      "cell_type": "code",
      "source": [
        "#plot ex3 and ex6\n",
        "print(len(train_loss[2]))\n",
        "epoch_num = np.arange(len(train_loss[2]))\n",
        "epoch_num2 = np.arange(len(train_loss[5]))\n",
        "plt.plot(epoch_num, train_loss[2], label=\"CGAN train on dataset 1\")\n",
        "plt.plot(epoch_num, test_loss[2], label='CGAN test on dataset 1')\n",
        "plt.plot(epoch_num2, train_loss[5], label='CGAN train on dataset 2, U-net pretrained')\n",
        "# plt.plot(epoch_num2, train_loss[6], label='CGAN train on dataset 2, U-net from scratch')\n",
        "\n",
        "plt.xlabel('Num of Epoch')\n",
        "plt.ylabel(\"Total Loss of CGAN\")\n",
        "plt.title(\"CGAN Model Performance\")\n",
        "plt.legend()\n",
        "plt.show()"
      ],
      "metadata": {
        "id": "8snoEE0BNIEV"
      },
      "execution_count": null,
      "outputs": []
    }
  ]
}